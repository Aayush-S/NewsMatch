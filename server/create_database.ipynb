{
 "cells": [
  {
   "cell_type": "code",
   "execution_count": 1,
   "metadata": {},
   "outputs": [],
   "source": [
    "import csv\n",
    "import sqlite3\n",
    "# from flask import jsonify\n",
    "import json\n",
    "# import pandas as pd\n"
   ]
  },
  {
   "cell_type": "code",
   "execution_count": 13,
   "metadata": {},
   "outputs": [],
   "source": [
    "def connect(filename):\n",
    "    conn = sqlite3.connect(filename)\n",
    "    cursor = conn.cursor()\n",
    "    return conn, cursor\n"
   ]
  },
  {
   "cell_type": "code",
   "execution_count": 3,
   "metadata": {},
   "outputs": [],
   "source": [
    "def insert_some_data():\n",
    "    try:\n",
    "        with open('clustered_articles_small.csv', 'r') as data:\n",
    "            reader = csv.DictReader(data)\n",
    "            to_db = [(i['article_id'], i[\"Keywords\"], i['Title'], i[\"Text\"], i[\"Bias\"], i['Cluster Tags']) for i in reader]\n",
    "\n",
    "        cursor.executemany(\"INSERT INTO Articles (article_id, Title, Text, Bias, Keywords, [Cluster Tags]) VALUES (?, ?, ?, ?, ?, ?);\", to_db)\n",
    "    #     con.commit()\n",
    "    #     cur.close()\n",
    "    except sqlite3.Error as error:\n",
    "        print(\"Error: \", error)\n",
    "    # finally:\n",
    "    #     con.close()\n",
    "    #     print(\"sqlite connection closed\")"
   ]
  },
  {
   "cell_type": "code",
   "execution_count": 32,
   "metadata": {},
   "outputs": [],
   "source": [
    "def get_histogram_data():\n",
    "    # cluster_tags = [\n",
    "    #     \"Political and Social Issues\",\n",
    "    #     \"Community Involvement\",\n",
    "    #     \"Names, Organizations, and Various Terms\",\n",
    "    #     \"Locations\",\n",
    "    #     \"Misc. Adjectives\",\n",
    "    #     \"Legal and Law Enforcement\",\n",
    "    #     \"Science and Medicine\",\n",
    "    #     \"Noise/Nonsensical Phrases\",\n",
    "    #     \"Media and Entertainment\",\n",
    "    #     \"Various Phrases/Verbs\",\n",
    "    #     \"Nature and Wildlife\",\n",
    "    #     \"Food\",\n",
    "    #     \"Finance and Economics\",\n",
    "    #     \"Objects and Accessories\",\n",
    "    # ]\n",
    "    conn = sqlite3.connect('first_2000.db')\n",
    "    conn = conn.cursor()\n",
    "    conn.execute(\n",
    "        \"\"\"\n",
    "        SELECT cluster_id, cluster_name from clusters;\"\"\"\n",
    "    )\n",
    "    cluster_tags = conn.fetchall()\n",
    "    cluster_tags = [tag[1] for tag in cluster_tags[1:]]\n",
    "    \n",
    "    # this one uses small.db, created this from shell\n",
    "    '''\n",
    "    sqlite3 small.db\n",
    "    .mode csv articles\n",
    "    .import clustered_articles_small.csv articles  # this is the first 2000 rows of large csv\n",
    "    .tables  # prints 'articles'\n",
    "    .schema  # also gives more info\n",
    "    .quit\n",
    "    '''\n",
    "    conn.execute(\"Select bias, count(*) from articles where [Cluster Tags] like '%Nature And WildLife%' group by bias\")\n",
    "    data = conn.fetchall()\n",
    "    print(data)\n",
    "\n",
    "    # conn = sqlite3.connect('small.db')\n",
    "    # conn = conn.cursor()\n",
    "\n",
    "\n",
    "    # histogram_data = []\n",
    "    # for tag in cluster_tags:\n",
    "    #     print(\"current tag\", tag)\n",
    "    #     like_tag = \"%\" + tag + \"%\"\n",
    "    #     conn.execute(\"\"\"\n",
    "    #         SELECT bias, count(*) AS article_count FROM articles \n",
    "    #         WHERE [Cluster Tags] LIKE ?\n",
    "    #         \"\"\", (like_tag,))\n",
    "    #     cluster_data = conn.fetchall()\n",
    "    #     print(cluster_data)\n",
    "\n",
    "\n",
    "        # histogram_data.append({\n",
    "        #     \"tag\": tag,\n",
    "        #     \"data\": cluster_data\n",
    "        # })\n",
    "    # conn.close()\n",
    "\n",
    "    return json.dumps(data)"
   ]
  },
  {
   "cell_type": "code",
   "execution_count": 33,
   "metadata": {},
   "outputs": [
    {
     "name": "stdout",
     "output_type": "stream",
     "text": [
      "[('0', 12), ('1', 11), ('2', 30), ('3', 1), ('4', 18)]\n"
     ]
    },
    {
     "data": {
      "text/plain": [
       "'[[\"0\", 12], [\"1\", 11], [\"2\", 30], [\"3\", 1], [\"4\", 18]]'"
      ]
     },
     "execution_count": 33,
     "metadata": {},
     "output_type": "execute_result"
    }
   ],
   "source": [
    "get_histogram_data()"
   ]
  },
  {
   "cell_type": "code",
   "execution_count": null,
   "metadata": {},
   "outputs": [],
   "source": []
  }
 ],
 "metadata": {
  "kernelspec": {
   "display_name": "Python 3",
   "language": "python",
   "name": "python3"
  },
  "language_info": {
   "codemirror_mode": {
    "name": "ipython",
    "version": 3
   },
   "file_extension": ".py",
   "mimetype": "text/x-python",
   "name": "python",
   "nbconvert_exporter": "python",
   "pygments_lexer": "ipython3",
   "version": "3.11.5"
  }
 },
 "nbformat": 4,
 "nbformat_minor": 2
}
