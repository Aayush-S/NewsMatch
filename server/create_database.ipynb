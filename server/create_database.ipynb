{
 "cells": [
  {
   "cell_type": "code",
   "execution_count": 34,
   "metadata": {},
   "outputs": [],
   "source": [
    "import csv\n",
    "import sqlite3\n",
    "# from flask import jsonify\n",
    "import json\n",
    "# import pandas as pd\n"
   ]
  },
  {
   "cell_type": "code",
   "execution_count": 13,
   "metadata": {},
   "outputs": [],
   "source": [
    "def connect(filename):\n",
    "    conn = sqlite3.connect(filename)\n",
    "    cursor = conn.cursor()\n",
    "    return conn, cursor\n"
   ]
  },
  {
   "cell_type": "code",
   "execution_count": 3,
   "metadata": {},
   "outputs": [],
   "source": [
    "def insert_some_data():\n",
    "    try:\n",
    "        with open('clustered_articles_small.csv', 'r') as data:\n",
    "            reader = csv.DictReader(data)\n",
    "            to_db = [(i['article_id'], i[\"Keywords\"], i['Title'], i[\"Text\"], i[\"Bias\"], i['Cluster Tags']) for i in reader]\n",
    "\n",
    "        cursor.executemany(\"INSERT INTO Articles (article_id, Title, Text, Bias, Keywords, [Cluster Tags]) VALUES (?, ?, ?, ?, ?, ?);\", to_db)\n",
    "    #     con.commit()\n",
    "    #     cur.close()\n",
    "    except sqlite3.Error as error:\n",
    "        print(\"Error: \", error)\n",
    "    # finally:\n",
    "    #     con.close()\n",
    "    #     print(\"sqlite connection closed\")"
   ]
  },
  {
   "cell_type": "code",
   "execution_count": 32,
   "metadata": {},
   "outputs": [],
   "source": [
    "def get_histogram_data():\n",
    "    # cluster_tags = [\n",
    "    #     \"Political and Social Issues\",\n",
    "    #     \"Community Involvement\",\n",
    "    #     \"Names, Organizations, and Various Terms\",\n",
    "    #     \"Locations\",\n",
    "    #     \"Misc. Adjectives\",\n",
    "    #     \"Legal and Law Enforcement\",\n",
    "    #     \"Science and Medicine\",\n",
    "    #     \"Noise/Nonsensical Phrases\",\n",
    "    #     \"Media and Entertainment\",\n",
    "    #     \"Various Phrases/Verbs\",\n",
    "    #     \"Nature and Wildlife\",\n",
    "    #     \"Food\",\n",
    "    #     \"Finance and Economics\",\n",
    "    #     \"Objects and Accessories\",\n",
    "    # ]\n",
    "    conn = sqlite3.connect('first_2000.db')\n",
    "    conn = conn.cursor()\n",
    "    conn.execute(\n",
    "        \"\"\"\n",
    "        SELECT cluster_id, cluster_name from clusters;\"\"\"\n",
    "    )\n",
    "    cluster_tags = conn.fetchall()\n",
    "    cluster_tags = [tag[1] for tag in cluster_tags[1:]]\n",
    "    \n",
    "    # this one uses small.db, created this from shell\n",
    "    '''\n",
    "    sqlite3 small.db\n",
    "    .mode csv articles\n",
    "    .import clustered_articles_small.csv articles  # this is the first 2000 rows of large csv\n",
    "    .tables  # prints 'articles'\n",
    "    .schema  # also gives more info\n",
    "    .quit\n",
    "    '''\n",
    "    conn.execute(\"Select bias, count(*) from articles where [Cluster Tags] like '%Nature And WildLife%' group by bias\")\n",
    "    data = conn.fetchall()\n",
    "    print(data)\n",
    "\n",
    "    # conn = sqlite3.connect('small.db')\n",
    "    # conn = conn.cursor()\n",
    "\n",
    "\n",
    "    # histogram_data = []\n",
    "    # for tag in cluster_tags:\n",
    "    #     print(\"current tag\", tag)\n",
    "    #     like_tag = \"%\" + tag + \"%\"\n",
    "    #     conn.execute(\"\"\"\n",
    "    #         SELECT bias, count(*) AS article_count FROM articles \n",
    "    #         WHERE [Cluster Tags] LIKE ?\n",
    "    #         \"\"\", (like_tag,))\n",
    "    #     cluster_data = conn.fetchall()\n",
    "    #     print(cluster_data)\n",
    "\n",
    "\n",
    "        # histogram_data.append({\n",
    "        #     \"tag\": tag,\n",
    "        #     \"data\": cluster_data\n",
    "        # })\n",
    "    # conn.close()\n",
    "\n",
    "    return json.dumps(data)"
   ]
  },
  {
   "cell_type": "code",
   "execution_count": 33,
   "metadata": {},
   "outputs": [
    {
     "name": "stdout",
     "output_type": "stream",
     "text": [
      "[('0', 12), ('1', 11), ('2', 30), ('3', 1), ('4', 18)]\n"
     ]
    },
    {
     "data": {
      "text/plain": [
       "'[[\"0\", 12], [\"1\", 11], [\"2\", 30], [\"3\", 1], [\"4\", 18]]'"
      ]
     },
     "execution_count": 33,
     "metadata": {},
     "output_type": "execute_result"
    }
   ],
   "source": [
    "get_histogram_data()"
   ]
  },
  {
   "cell_type": "code",
   "execution_count": 67,
   "metadata": {},
   "outputs": [],
   "source": [
    "def get_articles_in_cluster(clusterId=0, limit=50):\n",
    "\n",
    "    conn = sqlite3.connect('first_2000.db')\n",
    "    conn.row_factory = sqlite3.Row\n",
    "    cursor = conn.cursor()\n",
    "    # conn.execute(\"SELECT * FROM articles\")\n",
    "    cursor.execute(\"\"\"\n",
    "        SELECT cluster_name from clusters where cluster_id = ?;\n",
    "                 \"\"\", (clusterId,)\n",
    "    )\n",
    "    cluster_tags = cursor.fetchall()\n",
    "    print(\"cluster_tags\", cluster_tags)\n",
    "    if len(cluster_tags) != 1:\n",
    "        print(\"wrong number of tags returned!\")\n",
    "        return None\n",
    "    tag_name = cluster_tags[0][0]\n",
    "    print(tag_name)\n",
    "    # cluster_tag = [tag[1] for tag in cluster_tag[1:]]\n",
    "    tag_name = \"%\" + tag_name + \"%\"\n",
    "    cursor.execute(\n",
    "        f\"\"\"SELECT article_id, Bias, Title, Text, Keywords, [Cluster Tags]\n",
    "            FROM articles\n",
    "            WHERE [Cluster Tags] like ? limit ?;\"\"\", (tag_name,limit,)\n",
    "    )\n",
    "    articles = cursor.fetchall()\n",
    "    print(\"articles\", articles)\n",
    "    conn.close()\n",
    "\n",
    "    return json.dumps([dict(article) for article in articles])"
   ]
  },
  {
   "cell_type": "code",
   "execution_count": 68,
   "metadata": {},
   "outputs": [
    {
     "name": "stdout",
     "output_type": "stream",
     "text": [
      "cluster_tags [<sqlite3.Row object at 0x106ba9480>]\n",
      "Community Involvement\n",
      "articles [<sqlite3.Row object at 0x106baace0>, <sqlite3.Row object at 0x106ba9ff0>, <sqlite3.Row object at 0x106ba94b0>, <sqlite3.Row object at 0x106bab490>, <sqlite3.Row object at 0x106ba82e0>]\n"
     ]
    },
    {
     "data": {
      "text/plain": [
       "'[{\"article_id\": 1, \"Bias\": \"0\", \"Title\": \"University To Award Trayvon Martin With Posthumous Degree In Aviation\", \"Text\": \"A Florida university will honor Trayvon Martin with a posthumous Bachelor of Science Degree in Aviation at a May 13 commencement ceremony. The degree will be accepted by his parents, Tracy Martin and Sabrina Fulton. Seventeen-year-old Martin was killed in February of 2012 by former neighborhood watch captain George Zimmerman, who is Hispanic, in self-defense. After a long, racially-charged public debate and court trial, Zimmerman was completely exonerated in July of 2013. Florida Memorial University officially announcedthe posthumous degree via Facebook on Wednesday. \\\\\"The University will confer upon TRAYVON MARTIN a posthumous degree in Aeronautical Science with a concentration in Flight Education, in honor of the steps he took during his young life toward becoming a pilot,\\\\\" says the Facebook post. \\\\\"This particular Bachelor\\\\u2019s degree is designated for those studying to be pilots. Martin\\\\u2019s parents, both social justice activists and co-founders of The Trayvon Martin Foundation ... will accept the degree on behalf of their son.\\\\\" \\\\u201cOf special significance is awarding posthumously the Bachelor of Science Degree in Aviation to Trayvon Martin. Sybrina, our alum, epitomizes strength and dignity as she uplifts other victims of violence while effecting change for a more equal and just society,\\\\\" said Florida Memorial University President Dr. Roslyn Clark Artis. Additionally, the school will host a post-commencement fundraiser which will partly support The Trayvon Martin Foundation.\", \"Keywords\": \"[\\'degree\\', \\'martin\\', \\'trayvon\\', \\'university\\', \\'science\\']\", \"Cluster Tags\": \"{\\'Community Involvement\\'}\"}, {\"article_id\": 2, \"Bias\": \"1\", \"Title\": \"Texas State University suspends Greek life after student death\", \"Text\": \"Nov. 15 (UPI) \\\\u2014 Texas State University has suspended all Greek life activity on campus after a pledge died after attending an event hosted by a university fraternity. Police officers found Matthew Ellis, a 20-year-old Phi Kappa Psi pledge, dead on Monday after they responded to an off-campus call. Ellis attended a Greek life event on Sunday hosted by fraternity members, but it is unclear if the event was hosted by one fraternity or multiple fraternities. Although an autopsy has been ordered, a preliminary investigation suggested alcohol poisoning as a factor in the student\\\\u2019s death. Phi Kappa Psi Executive Director Mark Guidi said that the organization is \\\\u201cheartbroken.\\\\u201d \\\\u201cOur thoughts and prayers are with his family, friends and the entire TSU student body during this difficult time,\\\\u201d Giudi said. Texas State University President Denise M. Trauth released a statement announcing the suspension of Greek life activity on campus. \\\\u201cI am deeply saddened by the tragic death of one of our students who attended an off-campus social event on Sunday evening hosted by members of a university fraternity,\\\\u201d Trauth said. \\\\u201cAs a result of this tragedy, I have suspended activities of all Greek fraternity and sorority chapters at Texas State. These chapters are prohibited from holding new-member events, chapter meetings, social functions, and philanthropic activities until a thorough review of the Greek Affairs system is completed.\\\\u201d Trauth also said Vice President for Student Affairs Dr. Joanne Smith would \\\\u201cimmediately initiate this review\\\\u201d and would \\\\u201cpropose recommendations\\\\u201d for the Greek chapters to show their \\\\u201ccommitment to the core values of Texas State.\\\\u201d \\\\u201cIt is imperative that our entire university community develop a culture that places the highest priority on the safety of its students, faculty, and staff.\\\\u201d\", \"Keywords\": \"[\\'greek\\', \\'university\\', \\'texas\\', \\'said\\', \\'fraternity\\']\", \"Cluster Tags\": \"{\\'Media and Entertainment\\', \\'Community Involvement\\'}\"}, {\"article_id\": 8, \"Bias\": \"3\", \"Title\": \"How schools in Brazil are teaching kids to eat their vegetables\", \"Text\": \"On a hilly slope in S\\\\u00e3o Paulo City, a group of sixth graders is busy at work. They\\\\u2019re armed with seeds, soil and a range of gardening tools. Upside-down soda bottles, filled with water, outline a series of rectangular garden plots. A boy named Felipy Pigato tells me they are preparing the soil for planting. \\\\u201cYesterday we mixed regular soil with coconut fiber,\\\\u201d he says. \\\\u201cThe coconut fiber holds the seeds in the soil.\\\\u201d \\\\u00a0 Today, he says they will add in the compost. As the students dig, they pull back chunks of dirt, creating shallow pits, where earthworms wriggle in the freshly dug soil.\\\\u00a0 Mateus Feitosa de Almeida, 12, slowly pulls back the soil around a worm. \\\\u201cWe have to pull like that so we don\\\\u2019t hurt the worms,\\\\u201d he explains. \\\\u201cIf we take them out, it\\\\u2019s bad for the soil.\\\\u201d This digging is going on in a quiet middle-class neighborhood, in a garden that belongs to Le\\\\u00e3o Machado School, a large public school. The students are working under the guidance of two teachers, Daniel Giglio Colombo and Marta Martins. This is the second year of the project, says Colombo, who helped start the garden. \\\\u201cWe\\\\u2019re going to grow the same things we did last year \\\\u2014 arugula, lettuce, radishes.\\\\u201d The vegetables they grow are used in school meals. But the real aim of the school garden is not to supply ingredients, he says, but to teach students where food comes from, so they can develop a connection to their food. \\\\u201cWhen we ask students where lettuce comes from, they say the market,\\\\u201d Colombo says. \\\\u201cThey have lost contact with nature, the soil, sowing, and growing of crops.\\\\u201d And that is reflected in their diets, he says, which are increasingly unhealthy.  Students say the school garden project is teaching them a lot about how to grow food, though it\\'s still hard for some of them to appreciate vegetables. Rhitu Chatterjee Just like in the US, highly processed foods like fast food, soda, and high-fructose corn syrup have become all too popular here in Brazil. And obesity rates are rising, even among children. It is a nation-wide problem that has alarmed the government and public health experts in the country.\\\\u00a0Brazil\\\\u2019s government has banned sodas, cakes\\\\u00a0and cookies in school meals. It has restricted the amount of salt and sugar in them as well. It also requires at least one daily serving of fruits and vegetables. Initially, students used to reject fresh food, says Martins. She and her colleagues hoped that the school garden would change that. \\\\u201cWe wanted to create better habits with this project,\\\\u201d Martins says. \\\\u201cWe wanted them to improve their eating and become healthier.\\\\u201d That idea is behind flourishing school gardens across Brazil. The program started 12 years ago as a pilot program in five schools, as part of a project by the United Nations Food and Agricultural Program. Today, there are a few thousand school gardens in 700 cities and towns. Many are run independently by schools. Others are supported by city governments.\\\\u00a0 It\\\\u2019s hard to know yet whether school gardens have improved children\\\\u2019s health, says Albaneide Peixinho, who ran Brazil\\\\u2019s school meal program for 13 years. But she says schools are reporting that the gardens have made students more aware of their food. \\\\u201cWith school gardens, they see that food comes from the Earth,\\\\u201d Peixinho says, and they are eating healthier. Some studies even show that the students are influencing how their families eat. \\\\u201cParents say that the kids are eating a lot of fruits and vegetables, and they insist on eating those foods at home.\\\\u201d  Sarah Campos (left) and Juliana Santos, former students of\\\\u00a0the Le\\\\u00e3o Machado School. Campos says she tried her first radish after working in the school garden. Now she loves them. Rhitu Chatterjee Sarah Campos, 14, took the school garden class last year at Le\\\\u00e3o Machado in S\\\\u00e3o Paulo. \\\\u201cI had never eaten radishes before,\\\\u201d she says. But she tried some when she and her classmates cooked radishes they had grown in the school garden. \\\\u201cI loved it so much that I even had a second plate,\\\\u201d Campos says. Now, she says she eats radishes often. \\\\u201cI ask my mom to make them for lunch sometimes. She puts them in the salad with carrots, and with potatoes. It\\\\u2019s very good.\\\\u201d She and her classmates say they are more open to eating vegetables now. They try to avoid fast food and they\\\\u2019re more conscious of their diets.Out in the garden, I ask Mateus, the student who told me about protecting earthworms, what he has learned in his gardening class. \\\\u201cMany things,\\\\u201d he says. \\\\u201cLike digging, what organic fertilizer is, what animals do to make the soil better.\\\\u201d \\\\u201cWhat did you learn about vegetables?\\\\u201d I ask. \\\\u201cThat they are good for our health and well-being.\\\\u201d \\\\u00a0 \\\\u201cDo you eat vegetables?\\\\u201d \\\\u201cI\\\\u2019m not so keen on them, but I guess I do now with this project,\\\\u201d he says, laughing sheepishly. \\\\u00a0 The hope is that by the end of the school year, he will really enjoy them. Related:\\\\u00a0 What does Brazil feed its school kids? This story was produced with support from the\\\\u00a0 Pulitzer Center on Crisis Reporting.\", \"Keywords\": \"[\\'school\\', \\'says\\', \\'garden\\', \\'students\\', \\'food\\']\", \"Cluster Tags\": \"{\\'Food\\', \\'Community Involvement\\', \\'Locations\\'}\"}, {\"article_id\": 17, \"Bias\": \"4\", \"Title\": \"Supporters of Both Hillary Clinton and Bernie Sanders Need to Acknowledge This Crucial Fact\", \"Text\": \"Currently there is a bit of a \\\\u201ccivil war\\\\u201d going on among progressives between Hillary Clinton and Bernie Sanders supporters. During a primary season, that\\\\u2019s to be expected. Undoubtedly, it\\\\u2019s at this point during an election year when voters are most emotionally tied to a particular candidate. Primary elections often resemble sporting events more than political contests. But what\\\\u2019s alarmed me most about this particular primary season\\\\u00a0is the number of people threatening to \\\\u201csit out\\\\u201d or \\\\u201cwrite-in\\\\u201d a candidate if their particular candidate doesn\\\\u2019t happen to win the nomination. A belief that I think is one of the most asinine stances I\\\\u2019ve ever heard. If you think either Donald Trump, Ted Cruz or Marco Rubio would be better (or just as bad) as voting for either Hillary Clinton or Bernie Sanders, you are out of your damn mind. I don\\\\u2019t care what your thoughts are of either Clinton or Sanders, on their worst day, either candidate is a million times better than anyone from the Republican party. And with the rights for millions of Americans at risk, as well as the Supreme Court and our progress on climate change, there\\\\u2019s too much at stake this election to have any group of people not support the eventual Democratic nominee. And while I have encountered a few Clinton supporters who\\\\u2019ve vowed not to support Sanders if he becomes the nominee (I\\\\u2019ve even been blocked by a few of them for calling them idiots), the \\\\u201cmy candidate or no one\\\\u201d crowd is mostly found among Sanders supporters. Though I will gladly admit that the majority of those supporting Sanders do\\\\u00a0understand the bigger picture and have said they plan to support whichever candidate ultimately wins the nomination. To those people, I can\\\\u2019t thank them enough. In fact, I can\\\\u2019t thank anyone enough for realizing what\\\\u2019s on the line this election and why it\\\\u2019s so crucial that we all get out and \\\\u201cvote blue, no matter who.\\\\u201d I don\\\\u2019t even want to think about how much damage Republicans will be able to do to this nation if we hand them the White House this November. It will make George W. Bush\\\\u2019s eight years seem like a wonderful dream compared to the nightmare that a President Trump/Rubio/Cruz would inflict upon the country. But there\\\\u2019s an irony to anyone who says that they\\\\u2019re going to take their ball and go home if their candidate doesn\\\\u2019t win, and it\\\\u2019s this:\\\\u00a0Neither candidate can win without help from the supporters of their primary rival. If Hillary Clinton wins the nomination, then half of all Sanders supporters decide not to support her, she likely\\\\u00a0loses and we\\\\u2019re stuck with a President Trump/Rubio/Cruz. But guess what? If Bernie Sanders wins the nomination, then half of all Clinton supporters decide not to support him, he\\\\u2019s likely\\\\u00a0going to lose and we\\\\u2019re going to be stuck with a President Trump/Rubio/Cruz. The truth of the matter is, whether each side wants to admit it or not, they both need each other this\\\\u00a0November. Because come election day, if one group decides to let selfish ego and pride get in the way by not supporting the Democratic nominee, guess what? We all lose.\\\\u00a0 So, no matter what Clinton or Sanders supporters might think of one another, the reality is, they\\\\u2019re in this together \\\\u2013 whether they like it or not.   I Asked Liberals to Unite to Protect the Rights of Millions, Here are Some of the Responses Ultra Pro-Bernie Backer Robert Reich Feels the Wrath of Sanders Supporters for Preaching Unity For the Last Time: Here\\'s Proof the Democratic Primary Wasn\\'t Rigged Against Bernie Sanders 0 Facebook comments\", \"Keywords\": \"[\\'sanders\\', \\'candidate\\', \\'supporters\\', \\'clinton\\', \\'primary\\']\", \"Cluster Tags\": \"{\\'Community Involvement\\'}\"}, {\"article_id\": 18, \"Bias\": \"0\", \"Title\": \"California Bill Demands \\\\u201cVerbal or Written Consent\\\\u201d for Sex on College Campuses\", \"Text\": \"Don\\\\u2019t get me wrong, rape\\\\u2014on college campuses or anywhere else\\\\u2014is a very serious crime that should be punished severely. But when lawmakers start demanding that college students obtain \\\\u201cwritten or verbal consent\\\\u201d before having sex, it\\\\u2019s a sign we\\\\u2019ve become a tad hysterical on this issue.    From LA Weekly: Sounds quite unspontaneous. But a law co-authored by L.A. state Sen. Kevin de Leon would have state-run college campuses establish an \\\\u201caffirmative consent\\\\u201d standard for its students. \\\\u00a0 According to the language of the bill, SB 967, students who want to have sex must essentially establish that there has been \\\\u201can affirmative, unambiguous, and conscious decision by each participant to engage in mutually agreed-upon sexual activity.\\\\u201d\\\\u2026No more making sexy faces and sounds for you. You\\\\u2019ve got to verbalize. Or get it on paper. Why not just require a notarized letter from an attorney, or better yet, a license? If we\\\\u2019re going to go this far, maybe college kids who want to have sex should go to a DMV-like office to get permission.  All joking aside, the fact that this is even an issue suggests that a lot of college kids are having sex they\\\\u2019re not comfortable with having. People don\\\\u2019t sign a waiver when they\\\\u2019re engaging in any activity with someone they know and trust. (My advice to college kids: if you feel like you need to have a written contract drawn up with your \\\\u201cpartner,\\\\u201d you shouldn\\\\u2019t be having sex with them.)\\\\u00a0 Some of the colleges under investigation right now for mishandling sexual assault cases are the most liberal, anything-goes, sexually open institutions in America. They host extravagant \\\\u201cSex Week\\\\u201d events and pass out condoms to freshmen. They talk a lot about \\\\u201cconsent,\\\\u201d but very little about respect, caring, or good judgment. Plying a \\\\u201cyes\\\\u201d out of someone is all that matters. In an environment like this, the boundaries of consent begin to break down. Students\\\\u2014who face enormous peer pressure to participate in this free-for-all\\\\u2014have trouble saying \\\\u201cno\\\\u201d when they want to. Other students simply don\\\\u2019t respect a \\\\u201cno.\\\\u201d Add a huge amount of alcohol into the mix, and chaos ensues.  This is the problem that college administrators and lawmakers are trying to fix. But until they have the guts to criticize the culture on college campuses, they\\\\u2019ll get nowhere. \", \"Keywords\": \"[\\'college\\', \\'sex\\', \\'students\\', \\'get\\', \\'want\\']\", \"Cluster Tags\": \"{\\'Legal and Law Enforcement\\', \\'Community Involvement\\'}\"}]'"
      ]
     },
     "execution_count": 68,
     "metadata": {},
     "output_type": "execute_result"
    }
   ],
   "source": [
    "get_articles_in_cluster(1, 5)"
   ]
  },
  {
   "cell_type": "code",
   "execution_count": null,
   "metadata": {},
   "outputs": [],
   "source": []
  }
 ],
 "metadata": {
  "kernelspec": {
   "display_name": "Python 3",
   "language": "python",
   "name": "python3"
  },
  "language_info": {
   "codemirror_mode": {
    "name": "ipython",
    "version": 3
   },
   "file_extension": ".py",
   "mimetype": "text/x-python",
   "name": "python",
   "nbconvert_exporter": "python",
   "pygments_lexer": "ipython3",
   "version": "3.11.5"
  }
 },
 "nbformat": 4,
 "nbformat_minor": 2
}
